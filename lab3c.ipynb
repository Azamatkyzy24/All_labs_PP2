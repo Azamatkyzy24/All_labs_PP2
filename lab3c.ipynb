{
 "cells": [
  {
   "cell_type": "code",
   "execution_count": 2,
   "metadata": {},
   "outputs": [
    {
     "name": "stdout",
     "output_type": "stream",
     "text": [
      "With upper case: HOW ARE U\n"
     ]
    }
   ],
   "source": [
    "class TextHandler:\n",
    "    def get_string(self):\n",
    "        self.sentence = input(\"Enter a sentence: \")\n",
    "\n",
    "    def print_string(self):\n",
    "        print(\"With upper case:\", self.sentence.upper())\n",
    "\n",
    "my_text = TextHandler()\n",
    "my_text.get_string()\n",
    "my_text.print_string()"
   ]
  },
  {
   "cell_type": "code",
   "execution_count": 5,
   "metadata": {},
   "outputs": [
    {
     "name": "stdout",
     "output_type": "stream",
     "text": [
      "Area of shape: 0\n",
      "Area of square: 36\n"
     ]
    }
   ],
   "source": [
    "class Shape:\n",
    "    def __init__(self):\n",
    "        self.area_value = 0\n",
    "\n",
    "    def area(self):\n",
    "        print(f\"Area of shape: {self.area_value}\")\n",
    "        \n",
    "class Square(Shape):\n",
    "    def __init__(self, length):\n",
    "        super().__init__()\n",
    "        self.length = length\n",
    "        self.area_value = length * length\n",
    "\n",
    "    def area(self):\n",
    "        print(f\"Area of square: {self.area_value}\")\n",
    "\n",
    "shape_obj = Shape()\n",
    "shape_obj.area()\n",
    "\n",
    "square_obj = Square(6)\n",
    "square_obj.area()"
   ]
  },
  {
   "cell_type": "code",
   "execution_count": null,
   "metadata": {},
   "outputs": [],
   "source": [
    "class Shape:\n",
    "    def area(self):\n",
    "        return 0\n",
    "\n",
    "class Rectangle(Shape):\n",
    "    def _init_(self, length, width):\n",
    "        \n",
    "        self.length = length\n",
    "        self.width = width\n",
    "\n",
    "    def area(self):\n",
    "        return self.length * self.width\n",
    "\n",
    "length = float(input(\"Enter the length of the rectangle: \"))\n",
    "width = float(input(\"Enter the width of the rectangle: \"))\n",
    "rectangle = Rectangle(length, width)\n",
    "\n",
    "print(\"Area of the rectangle:\", rectangle.area())"
   ]
  },
  {
   "cell_type": "code",
   "execution_count": 7,
   "metadata": {},
   "outputs": [
    {
     "name": "stdout",
     "output_type": "stream",
     "text": [
      "Coordinates: (5.0, 4.0)\n",
      "Coordinates: (2.0, 6.0)\n",
      "Distance between point1 and point2: 6.08\n"
     ]
    }
   ],
   "source": [
    "import math\n",
    "\n",
    "class Point:\n",
    "    def __init__(self, x, y):\n",
    "        self.x = x\n",
    "        self.y = y\n",
    "\n",
    "    def show(self):\n",
    "        print(f\"Coordinates: ({self.x}, {self.y})\")\n",
    "\n",
    "    def move(self, x1, y1):\n",
    "        self.x = x1\n",
    "        self.y = y1\n",
    "\n",
    "    def dist(self, point2):\n",
    "        dx = self.x - point2.x\n",
    "        dy = self.y - point2.y\n",
    "        distance = math.sqrt(dx**2 + dy**2)\n",
    "        return distance\n",
    "\n",
    "a = float(input(\"Enter x for point1: \"))\n",
    "b = float(input(\"Enter y for point1: \"))\n",
    "point1 = Point(a, b)\n",
    "\n",
    "c = float(input(\"Enter x for point2: \"))\n",
    "d = float(input(\"Enter y for point2: \"))\n",
    "point2 = Point(c, d)\n",
    "\n",
    "point1.show()\n",
    "\n",
    "k = float(input(\"Enter new x for point1: \"))\n",
    "p = float(input(\"Enter new y for point1: \"))\n",
    "point1.move(k, p)\n",
    "\n",
    "point1.show()\n",
    "\n",
    "distance = point1.dist(point2)\n",
    "print(f\"Distance between point1 and point2: {distance:.2f}\")\n"
   ]
  },
  {
   "cell_type": "code",
   "execution_count": 9,
   "metadata": {},
   "outputs": [
    {
     "name": "stdout",
     "output_type": "stream",
     "text": [
      "Current balance: 20000 units.\n",
      "You deposited 5000 units. New balance: 25000 units.\n",
      "Insufficient funds.\n",
      "You withdrew 15000 units. New balance: 10000 units.\n",
      "Current balance: 10000 units.\n"
     ]
    }
   ],
   "source": [
    "class BankAccount:\n",
    "    def __init__(self, owner_name, initial_balance):\n",
    "        self.owner_name = owner_name\n",
    "        self.balance = initial_balance\n",
    "\n",
    "    def show_balance(self):\n",
    "        return f\"Current balance: {self.balance} units.\"\n",
    "\n",
    "    def add_funds(self, amount):\n",
    "        if amount > 0:\n",
    "            self.balance += amount\n",
    "            return f\"You deposited {amount} units. New balance: {self.balance} units.\"\n",
    "        else:\n",
    "            return \"Deposit amount must be positive.\"\n",
    "\n",
    "    def withdraw_funds(self, amount):\n",
    "        if amount <= 0:\n",
    "            return \"Withdrawal amount must be positive.\"\n",
    "        elif self.balance < amount:\n",
    "            return \"Insufficient funds.\"\n",
    "        else:\n",
    "            self.balance -= amount \n",
    "            return f\"You withdrew {amount} units. New balance: {self.balance} units.\"\n",
    "\n",
    "account = BankAccount(\"Aidana\", 20000)\n",
    "\n",
    "print(account.show_balance())\n",
    "\n",
    "print(account.add_funds(5000))\n",
    "\n",
    "print(account.withdraw_funds(30000))\n",
    "\n",
    "print(account.withdraw_funds(15000))\n",
    "\n",
    "print(account.show_balance())"
   ]
  },
  {
   "cell_type": "code",
   "execution_count": 10,
   "metadata": {},
   "outputs": [
    {
     "name": "stdout",
     "output_type": "stream",
     "text": [
      "Prime numbers: [3, 5, 3, 2, 7]\n"
     ]
    }
   ],
   "source": [
    "def is_prime(n):\n",
    "    if n <= 1:\n",
    "        return False\n",
    "    for i in range(2, int(n**0.5) + 1):\n",
    "        if n % i == 0:\n",
    "            return False\n",
    "    return True\n",
    "\n",
    "input_numbers = input(\"Enter some numbers: \")\n",
    "\n",
    "numbers = list(map(int, input_numbers.split()))\n",
    "\n",
    "prime_numbers = list(filter(lambda x: is_prime(x), numbers))\n",
    "\n",
    "print(\"Prime numbers:\", prime_numbers)"
   ]
  },
  {
   "cell_type": "code",
   "execution_count": null,
   "metadata": {},
   "outputs": [],
   "source": []
  }
 ],
 "metadata": {
  "kernelspec": {
   "display_name": "base",
   "language": "python",
   "name": "python3"
  },
  "language_info": {
   "codemirror_mode": {
    "name": "ipython",
    "version": 3
   },
   "file_extension": ".py",
   "mimetype": "text/x-python",
   "name": "python",
   "nbconvert_exporter": "python",
   "pygments_lexer": "ipython3",
   "version": "3.12.7"
  }
 },
 "nbformat": 4,
 "nbformat_minor": 2
}
