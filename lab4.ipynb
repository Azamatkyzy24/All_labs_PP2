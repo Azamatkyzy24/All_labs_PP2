{
 "cells": [
  {
   "cell_type": "code",
   "execution_count": 1,
   "metadata": {},
   "outputs": [
    {
     "name": "stdout",
     "output_type": "stream",
     "text": [
      "Current time:  2025-02-20\n",
      "Substact five days :  2025-02-15\n"
     ]
    }
   ],
   "source": [
    "from datetime import date,  timedelta, datetime\n",
    "current = date.today() - timedelta(5)\n",
    "print(\"Current time: \", date.today())\n",
    "print(\"Substact five days : \",current)"
   ]
  },
  {
   "cell_type": "code",
   "execution_count": 2,
   "metadata": {},
   "outputs": [
    {
     "name": "stdout",
     "output_type": "stream",
     "text": [
      "Yesterday:  19-02-2025\n",
      "Today:  20-02-2025\n",
      "Tomorrow:  21-02-2025\n"
     ]
    }
   ],
   "source": [
    "from datetime import date,  timedelta, datetime\n",
    "time = datetime.now()-timedelta(1)\n",
    "yesterday = time.strftime(\"%d-%m-%Y\")\n",
    "\n",
    "print(\"Yesterday: \",yesterday)\n",
    "\n",
    "time = datetime.now()\n",
    "today = time.strftime(\"%d-%m-%Y\")\n",
    "\n",
    "print(\"Today: \",today)\n",
    "\n",
    "time = datetime.now()+timedelta(1)\n",
    "tomorrow = time.strftime(\"%d-%m-%Y\")\n",
    "\n",
    "print(\"Tomorrow: \", tomorrow)"
   ]
  },
  {
   "cell_type": "code",
   "execution_count": 3,
   "metadata": {},
   "outputs": [
    {
     "name": "stdout",
     "output_type": "stream",
     "text": [
      "2025-02-20, 11:41:46\n"
     ]
    }
   ],
   "source": [
    "from datetime import date,timedelta,datetime\n",
    "time = datetime.now()\n",
    "withoutmiliseconds = time.strftime(\"%Y-%m-%d, %H:%M:%S\")\n",
    "print(withoutmiliseconds)"
   ]
  },
  {
   "cell_type": "code",
   "execution_count": 4,
   "metadata": {},
   "outputs": [
    {
     "name": "stdout",
     "output_type": "stream",
     "text": [
      "172800.0\n"
     ]
    }
   ],
   "source": [
    "from datetime import date,timedelta, datetime\n",
    "yesterday = datetime.now()-timedelta(1)\n",
    "tomorrow = datetime.now()+timedelta(1)\n",
    "\n",
    "\n",
    "yesterday = datetime.timestamp(yesterday)\n",
    "tomorrow = datetime.timestamp(tomorrow)\n",
    "\n",
    "print(tomorrow-yesterday)"
   ]
  },
  {
   "cell_type": "code",
   "execution_count": 5,
   "metadata": {},
   "outputs": [
    {
     "name": "stdout",
     "output_type": "stream",
     "text": [
      "1\n",
      "4\n",
      "9\n",
      "16\n"
     ]
    }
   ],
   "source": [
    "def square_generator(n):\n",
    "    result = []  \n",
    "    for i in range(n):\n",
    "        \n",
    "        k = (i+1)**2\n",
    "        result.append(k)\n",
    "    return result\n",
    "\n",
    "n = int(input(\"Enter a number: \"))\n",
    "squares = square_generator(n)\n",
    "\n",
    "for square in squares:\n",
    "    print(square)"
   ]
  },
  {
   "cell_type": "code",
   "execution_count": 6,
   "metadata": {},
   "outputs": [
    {
     "name": "stdout",
     "output_type": "stream",
     "text": [
      "[0, 2]\n"
     ]
    }
   ],
   "source": [
    "def evens(n):\n",
    "    result=[]\n",
    "    for i in range(n):\n",
    "        if i%2==0:\n",
    "            result.append(i)\n",
    "    return result\n",
    "\n",
    "n=int(input(\"n:\"))\n",
    "k=evens(n)\n",
    "print(k)"
   ]
  },
  {
   "cell_type": "code",
   "execution_count": 8,
   "metadata": {},
   "outputs": [
    {
     "name": "stdout",
     "output_type": "stream",
     "text": [
      "[0, 12]\n"
     ]
    }
   ],
   "source": [
    "def d34(n):\n",
    "    result=[]\n",
    "    for i in range(n):\n",
    "        if i%3==0 and i%4==0:\n",
    "            result.append(i)\n",
    "    return result\n",
    "\n",
    "n=int(input(\"n:\"))\n",
    "k=d34(n)\n",
    "print(k)"
   ]
  },
  {
   "cell_type": "code",
   "execution_count": 9,
   "metadata": {},
   "outputs": [
    {
     "name": "stdout",
     "output_type": "stream",
     "text": [
      "[15, 14, 13, 12, 11, 10, 9, 8, 7, 6, 5, 4, 3, 2, 1]\n"
     ]
    }
   ],
   "source": [
    "def d34(n):\n",
    "    result=[]\n",
    "    for i in range(n,0,-1):\n",
    "        result.append(i)\n",
    "    return result\n",
    "\n",
    "n=int(input(\"n:\"))\n",
    "k=d34(n)\n",
    "print(k)"
   ]
  },
  {
   "cell_type": "code",
   "execution_count": 11,
   "metadata": {},
   "outputs": [
    {
     "name": "stdout",
     "output_type": "stream",
     "text": [
      "Radian: 1.7453292519943295\n"
     ]
    }
   ],
   "source": [
    "import math\n",
    "k=float(input(\"sandy engiz:\"))\n",
    "print(\"Radian:\",math.radians(k))"
   ]
  },
  {
   "cell_type": "code",
   "execution_count": 12,
   "metadata": {},
   "outputs": [
    {
     "name": "stdout",
     "output_type": "stream",
     "text": [
      "Trapazoide area: 54.0\n"
     ]
    }
   ],
   "source": [
    "import math\n",
    "h=float(input(\"Hight:\"))\n",
    "a=float(input(\"Base,first value:\"))\n",
    "b=float(input(\"Base,second value:\"))\n",
    "print(\"Trapazoide area:\",(a+b)*0.5*h)"
   ]
  },
  {
   "cell_type": "code",
   "execution_count": 13,
   "metadata": {},
   "outputs": [
    {
     "name": "stdout",
     "output_type": "stream",
     "text": [
      "Area: 9.000000000000002\n"
     ]
    }
   ],
   "source": [
    "import math\n",
    "n=int(input(\"Input number of sides:\"))\n",
    "a=int(input(\"Input the length of a side:\"))\n",
    "area = (n * a**2) / (4 * math.tan(math.pi / n))\n",
    "print(\"Area:\",area)"
   ]
  },
  {
   "cell_type": "code",
   "execution_count": 14,
   "metadata": {},
   "outputs": [
    {
     "name": "stdout",
     "output_type": "stream",
     "text": [
      "35.0\n"
     ]
    }
   ],
   "source": [
    "import math\n",
    "b=int(input(\"a:\"))\n",
    "a=int(input(\"b:\"))\n",
    "print(float(a*b))"
   ]
  }
 ],
 "metadata": {
  "kernelspec": {
   "display_name": "base",
   "language": "python",
   "name": "python3"
  },
  "language_info": {
   "codemirror_mode": {
    "name": "ipython",
    "version": 3
   },
   "file_extension": ".py",
   "mimetype": "text/x-python",
   "name": "python",
   "nbconvert_exporter": "python",
   "pygments_lexer": "ipython3",
   "version": "3.12.7"
  }
 },
 "nbformat": 4,
 "nbformat_minor": 2
}
