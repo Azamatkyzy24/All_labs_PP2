{
 "cells": [
  {
   "cell_type": "code",
   "execution_count": 5,
   "metadata": {},
   "outputs": [
    {
     "name": "stdout",
     "output_type": "stream",
     "text": [
      "Interface status\n",
      "================================================================================\n",
      "DN                                                 Description           Speed    MTU  \n",
      "-------------------------------------------------- --------------------  ------  ------\n",
      "topology/pod-1/node-201/sys/phys-[eth1/33]                              inherit   9150\n",
      "topology/pod-1/node-201/sys/phys-[eth1/34]                              inherit   9150\n",
      "topology/pod-1/node-201/sys/phys-[eth1/35]                              inherit   9150\n"
     ]
    }
   ],
   "source": [
    "import json \n",
    "\n",
    "with open(r\"C:\\Users\\aidan\\OneDrive\\Рабочий стол\\PP2\\sample-data.json\", encoding=\"utf-8\") as f:\n",
    "    data = json.load(f)\n",
    "\n",
    "print(\"Interface status\")\n",
    "print(\"=\" * 80)\n",
    "print(\"DN                                                 Description           Speed    MTU  \")\n",
    "print(\"-------------------------------------------------- --------------------  ------  ------\")\n",
    "\n",
    "interface_33 = data[\"imdata\"][0][\"l1PhysIf\"][\"attributes\"]\n",
    "interface_34 = data[\"imdata\"][1][\"l1PhysIf\"][\"attributes\"]\n",
    "interface_35 = data[\"imdata\"][2][\"l1PhysIf\"][\"attributes\"]\n",
    "\n",
    "print(interface_33[\"dn\"], \"                            \", interface_33[\"speed\"], \" \", interface_33[\"mtu\"])\n",
    "print(interface_34[\"dn\"], \"                            \", interface_34[\"speed\"], \" \", interface_34[\"mtu\"])\n",
    "print(interface_35[\"dn\"], \"                            \", interface_35[\"speed\"], \" \", interface_35[\"mtu\"])\n",
    "\n"
   ]
  }
 ],
 "metadata": {
  "kernelspec": {
   "display_name": "base",
   "language": "python",
   "name": "python3"
  },
  "language_info": {
   "codemirror_mode": {
    "name": "ipython",
    "version": 3
   },
   "file_extension": ".py",
   "mimetype": "text/x-python",
   "name": "python",
   "nbconvert_exporter": "python",
   "pygments_lexer": "ipython3",
   "version": "3.12.7"
  }
 },
 "nbformat": 4,
 "nbformat_minor": 2
}
