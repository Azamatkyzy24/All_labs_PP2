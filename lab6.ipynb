{
 "cells": [
  {
   "cell_type": "code",
   "execution_count": 1,
   "metadata": {},
   "outputs": [
    {
     "name": "stdout",
     "output_type": "stream",
     "text": [
      "Result: 120\n"
     ]
    }
   ],
   "source": [
    "import math\n",
    "\n",
    "numbers = list(map(int, input(\"Enter numbers separated by spaces: \").split()))\n",
    "print(\"Result:\", math.prod(numbers))"
   ]
  },
  {
   "cell_type": "code",
   "execution_count": 2,
   "metadata": {},
   "outputs": [
    {
     "name": "stdout",
     "output_type": "stream",
     "text": [
      "Uppercase letters: 2\n",
      "Lowercase letters: 8\n"
     ]
    }
   ],
   "source": [
    "text = input(\"Enter a string: \")\n",
    "\n",
    "upper = sum(1 for c in text if c.isupper()) \n",
    "lower = sum(1 for c in text if c.islower())\n",
    "\n",
    "print(\"Uppercase letters:\", upper)\n",
    "print(\"Lowercase letters:\", lower)"
   ]
  },
  {
   "cell_type": "code",
   "execution_count": 3,
   "metadata": {},
   "outputs": [
    {
     "name": "stdout",
     "output_type": "stream",
     "text": [
      " The string is a palindrome!\n"
     ]
    }
   ],
   "source": [
    "def is_palindrome(s):\n",
    "    s = s.lower().replace(\" \", \"\")\n",
    "    return s == s[::-1]\n",
    "\n",
    "text = input(\"Enter a string: \")\n",
    "\n",
    "if is_palindrome(text):\n",
    "    print(\" The string is a palindrome!\")\n",
    "else:\n",
    "    print(\"The string is NOT a palindrome.\")"
   ]
  },
  {
   "cell_type": "code",
   "execution_count": 4,
   "metadata": {},
   "outputs": [
    {
     "name": "stdout",
     "output_type": "stream",
     "text": [
      "Square root of 16000 after 150 milliseconds is 126.49110640673517\n"
     ]
    }
   ],
   "source": [
    "import time\n",
    "import math\n",
    "\n",
    "num = int(input(\"Enter a number: \"))\n",
    "milliseconds = int(input(\"Enter delay in milliseconds: \"))\n",
    "\n",
    "#1 ms = 0.001 sec\n",
    "time.sleep(milliseconds / 1000)\n",
    "\n",
    "result = math.sqrt(num)\n",
    "\n",
    "print(f\"Square root of {num} after {milliseconds} milliseconds is {result}\")"
   ]
  },
  {
   "cell_type": "code",
   "execution_count": 5,
   "metadata": {},
   "outputs": [
    {
     "name": "stdout",
     "output_type": "stream",
     "text": [
      "All elements are True: True\n"
     ]
    }
   ],
   "source": [
    "values = tuple(map(int, input(\"Enter numbers separated by spaces: \").split()))\n",
    "\n",
    "# Check if all elements are true\n",
    "result = all(values)\n",
    "\n",
    "print(\"All elements are True:\", result)"
   ]
  },
  {
   "cell_type": "code",
   "execution_count": 6,
   "metadata": {},
   "outputs": [
    {
     "name": "stdout",
     "output_type": "stream",
     "text": [
      "All items: ['Lab1.ipynb', 'lab2.ipynb', 'lab3.ipynb', 'lab3.py', 'lab3a.ipynb', 'lab3b.ipynb', 'lab3c.ipynb', 'lab4.ipynb', 'lab4a.ipynb', 'lab4b.ipynb', 'lab5.ipynb', 'lab6.ipynb', 'output-data.json', 'row.txt', 'sample-data.json', '__pycache__']\n"
     ]
    }
   ],
   "source": [
    "import os\n",
    "path = input(\"Enter the directory path: \")\n",
    "\n",
    "if os.path.exists(path):\n",
    "    all_items = os.listdir(path)\n",
    "    print(\"All items:\", all_items)\n",
    "else:\n",
    "    print(\"Error: Path does not exist!\")\n"
   ]
  },
  {
   "cell_type": "code",
   "execution_count": 7,
   "metadata": {},
   "outputs": [
    {
     "name": "stdout",
     "output_type": "stream",
     "text": [
      " Checking access for: C:\\Users\\aidan\\OneDrive\\Рабочий стол\\PP2\n",
      "Exists: True\n",
      "Readable: True\n",
      "Writable: True\n",
      "Executable: True\n"
     ]
    }
   ],
   "source": [
    "import os\n",
    "\n",
    "def check_path_access(path):\n",
    "    if not os.path.exists(path):\n",
    "        print(\"The specified path does not exist.\")\n",
    "        return\n",
    "    \n",
    "    print(f\" Checking access for: {path}\")\n",
    "    print(\"Exists:\", os.path.exists(path))\n",
    "    print(\"Readable:\", os.access(path, os.R_OK))\n",
    "    print(\"Writable:\", os.access(path, os.W_OK))\n",
    "    print(\"Executable:\", os.access(path, os.X_OK))\n",
    "\n",
    "path = input(\"Enter the path to check: \")\n",
    "\n",
    "check_path_access(path)"
   ]
  },
  {
   "cell_type": "code",
   "execution_count": 8,
   "metadata": {},
   "outputs": [
    {
     "name": "stdout",
     "output_type": "stream",
     "text": [
      " Path exists: C:\\Users\\aidan\\OneDrive\\Изображения\n",
      " Name of file: Изображения\n",
      " Name of directory: C:\\Users\\aidan\\OneDrive\n",
      "Success\n"
     ]
    }
   ],
   "source": [
    "import os\n",
    "\n",
    "def checker(path):\n",
    "    if os.path.exists(path):\n",
    "        print(\" Path exists:\", path)\n",
    "        print(\" Name of file:\", os.path.basename(path))\n",
    "        print(\" Name of directory:\", os.path.dirname(path))\n",
    "        return \"Success\"\n",
    "    else:\n",
    "        print(\" The specified path does not exist.\")\n",
    "        return \"Failure\"\n",
    "\n",
    "path = r\"C:\\Users\\aidan\\OneDrive\\Изображения\"\n",
    "\n",
    "print(checker(path))"
   ]
  },
  {
   "cell_type": "code",
   "execution_count": 10,
   "metadata": {},
   "outputs": [
    {
     "name": "stdout",
     "output_type": "stream",
     "text": [
      "Number of lines: 4\n"
     ]
    }
   ],
   "source": [
    "with open(\"sometext.txt\", \"r\", encoding=\"utf-8\") as f:\n",
    "    data = f.read()\n",
    "\n",
    "print(\"Number of lines:\", len(data.split(\"\\n\")))"
   ]
  },
  {
   "cell_type": "code",
   "execution_count": 11,
   "metadata": {},
   "outputs": [
    {
     "name": "stdout",
     "output_type": "stream",
     "text": [
      "List has been written to 'output.txt'\n"
     ]
    }
   ],
   "source": [
    "my_list = [\"KBTU\", \"PROFESSOR\", \"PP2\", \"LABS\", \"PYTHON\"]\n",
    "\n",
    "with open(\"output.txt\", \"w\") as f:\n",
    "    for item in my_list:\n",
    "        f.write(item + \"\\n\")\n",
    "\n",
    "print(\"List has been written to 'output.txt'\")"
   ]
  },
  {
   "cell_type": "code",
   "execution_count": 12,
   "metadata": {},
   "outputs": [
    {
     "name": "stdout",
     "output_type": "stream",
     "text": [
      "26 text files have been created!\n"
     ]
    }
   ],
   "source": [
    "import string\n",
    "\n",
    "for letter in string.ascii_uppercase:\n",
    "    filename = f\"{letter}.txt\"\n",
    "    \n",
    "    with open(filename, \"w\") as f:\n",
    "        f.write(f\"This is {filename}\\n\")\n",
    "\n",
    "print(\"26 text files have been created!\")"
   ]
  },
  {
   "cell_type": "code",
   "execution_count": 13,
   "metadata": {},
   "outputs": [
    {
     "name": "stdout",
     "output_type": "stream",
     "text": [
      " Contents of 'output.txt' have been copied to 'copied_output.txt'\n"
     ]
    }
   ],
   "source": [
    "source_file = \"output.txt\"\n",
    "destination_file = \"copied_output.txt\"\n",
    "\n",
    "with open(source_file, \"r\") as src, open(destination_file, \"w\") as dest:\n",
    "    dest.write(src.read())\n",
    "\n",
    "print(f\" Contents of '{source_file}' have been copied to '{destination_file}'\")"
   ]
  },
  {
   "cell_type": "code",
   "execution_count": null,
   "metadata": {},
   "outputs": [
    {
     "name": "stdout",
     "output_type": "stream",
     "text": [
      "File 'T.txt' has been deleted successfully.\n"
     ]
    }
   ],
   "source": [
    "import os\n",
    "\n",
    "def delete_file(file_path):\n",
    "    if not os.path.exists(file_path):\n",
    "        print(\"Error: The file does not exist.\")\n",
    "        return\n",
    "    \n",
    "    if not os.access(file_path, os.R_OK) or not os.access(file_path, os.W_OK):\n",
    "        print(\"Error: You do not have permission to delete this file.\")\n",
    "        return\n",
    "    \n",
    "    os.remove(file_path)\n",
    "    print(f\"File '{file_path}' has been deleted successfully.\")\n",
    "\n",
    "file_path = input(\"Enter the file path to delete: \")\n",
    "\n",
    "delete_file(file_path)"
   ]
  }
 ],
 "metadata": {
  "kernelspec": {
   "display_name": "base",
   "language": "python",
   "name": "python3"
  },
  "language_info": {
   "codemirror_mode": {
    "name": "ipython",
    "version": 3
   },
   "file_extension": ".py",
   "mimetype": "text/x-python",
   "name": "python",
   "nbconvert_exporter": "python",
   "pygments_lexer": "ipython3",
   "version": "3.12.7"
  }
 },
 "nbformat": 4,
 "nbformat_minor": 2
}
