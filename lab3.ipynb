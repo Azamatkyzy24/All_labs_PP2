{
 "cells": [
  {
   "cell_type": "code",
   "execution_count": 2,
   "metadata": {},
   "outputs": [
    {
     "data": {
      "text/plain": [
       "963.8837854"
      ]
     },
     "execution_count": 2,
     "metadata": {},
     "output_type": "execute_result"
    }
   ],
   "source": [
    "def grams_to_ounces(grams):\n",
    "  return 28.3495231 * grams\n",
    "grams=float(input())\n",
    "grams_to_ounces(grams)"
   ]
  },
  {
   "cell_type": "code",
   "execution_count": 3,
   "metadata": {},
   "outputs": [
    {
     "data": {
      "text/plain": [
       "48.88888888888889"
      ]
     },
     "execution_count": 3,
     "metadata": {},
     "output_type": "execute_result"
    }
   ],
   "source": [
    "def far_to_celc(far):\n",
    "    return (5/9)*(far-32)\n",
    "far=float(input())\n",
    "far_to_celc(far)"
   ]
  },
  {
   "cell_type": "code",
   "execution_count": 4,
   "metadata": {},
   "outputs": [
    {
     "name": "stdout",
     "output_type": "stream",
     "text": [
      "23 12\n"
     ]
    }
   ],
   "source": [
    "def solve(numheads, numlegs):\n",
    "    rabbits = (numlegs - (numheads * 2)) // 2 \n",
    "    chickens = numheads - rabbits \n",
    "    return chickens, rabbits  \n",
    "\n",
    "chickens, rabbits = solve(35, 94)\n",
    "print(chickens, rabbits)"
   ]
  },
  {
   "cell_type": "code",
   "execution_count": 5,
   "metadata": {},
   "outputs": [
    {
     "data": {
      "text/plain": [
       "[2, 3, 5, 7]"
      ]
     },
     "execution_count": 5,
     "metadata": {},
     "output_type": "execute_result"
    }
   ],
   "source": [
    "def is_prime(n):\n",
    "    if n <= 1:\n",
    "        return False\n",
    "    for i in range(2, n):\n",
    "        if n % i == 0:\n",
    "            return False\n",
    "    return True\n",
    "\n",
    "def filter_prime(numbers):\n",
    "    prime_list = []\n",
    "    for num in numbers:\n",
    "        if is_prime(num):\n",
    "            prime_list.append(num)\n",
    "    return prime_list\n",
    "\n",
    "numbers = input(\"Enter numbers separated by spaces: \").split()\n",
    "numbers = [int(num) for num in numbers]\n",
    "filter_prime(numbers)"
   ]
  },
  {
   "cell_type": "code",
   "execution_count": 6,
   "metadata": {},
   "outputs": [
    {
     "name": "stdout",
     "output_type": "stream",
     "text": [
      "aidana\n",
      "idanaa\n",
      "danaai\n",
      "anaaid\n",
      "naaida\n",
      "aaidan\n"
     ]
    }
   ],
   "source": [
    "def permutations(word):\n",
    "    n = len(word)\n",
    "\n",
    "    for i in range(n):\n",
    "        print(word[i:] + word[:i])  \n",
    "n = input()\n",
    "permutations(n)"
   ]
  },
  {
   "cell_type": "code",
   "execution_count": 10,
   "metadata": {},
   "outputs": [
    {
     "data": {
      "text/plain": [
       "'tired are we'"
      ]
     },
     "execution_count": 10,
     "metadata": {},
     "output_type": "execute_result"
    }
   ],
   "source": [
    "def rev(sentence):\n",
    "    words = sentence.split()  \n",
    "    result = \"\"  \n",
    "    for word in words[::-1]:  \n",
    "        result += word + \" \"  \n",
    "    return result.strip()  \n",
    "\n",
    "sentence = input()\n",
    "rev(sentence)"
   ]
  },
  {
   "cell_type": "code",
   "execution_count": 16,
   "metadata": {},
   "outputs": [
    {
     "name": "stdout",
     "output_type": "stream",
     "text": [
      "False\n"
     ]
    }
   ],
   "source": [
    "def has_33(nums):\n",
    "    n = False\n",
    "    for i in range(len(nums) - 1): \n",
    "        if nums[i] == nums[i + 1] == 3:\n",
    "            n = True\n",
    "    return n\n",
    "nums = list(map(int, input(\"Enter numbers separated by space: \").split()))\n",
    "print(has_33(nums))\n"
   ]
  },
  {
   "cell_type": "code",
   "execution_count": 17,
   "metadata": {},
   "outputs": [
    {
     "name": "stdout",
     "output_type": "stream",
     "text": [
      "True\n"
     ]
    }
   ],
   "source": [
    "def spy_game(nums):\n",
    "    code = [0, 0, 7]\n",
    "    for num in nums:\n",
    "        if num == code[0]:\n",
    "            code.pop(0)\n",
    "        if not code:\n",
    "            return True\n",
    "    \n",
    "    return False\n",
    "nums = list(map(int, input().split()))\n",
    "print(spy_game(nums))"
   ]
  },
  {
   "cell_type": "code",
   "execution_count": 1,
   "metadata": {},
   "outputs": [
    {
     "name": "stdout",
     "output_type": "stream",
     "text": [
      "Volume of the sphere: 268.08\n"
     ]
    }
   ],
   "source": [
    "import math\n",
    "\n",
    "def volume_sphere(radius):\n",
    "    V = (4 * math.pi * (radius ** 3)) / 3\n",
    "    return V9ұқ-э\n",
    "\n",
    "radius = float(input(\"Enter the radius of the sphere: \"))\n",
    "print(f\"Volume of the sphere: {volume_sphere(radius):.2f}\")\n"
   ]
  },
  {
   "cell_type": "code",
   "execution_count": 3,
   "metadata": {},
   "outputs": [
    {
     "name": "stdout",
     "output_type": "stream",
     "text": [
      "List with unique elements: [1, 3]\n"
     ]
    }
   ],
   "source": [
    "def unique_elements(input_list):\n",
    "    unique_list = []\n",
    "    for item in input_list:\n",
    "        if item not in unique_list:\n",
    "            unique_list.append(item)\n",
    "    return unique_list\n",
    "\n",
    "input_str = input()\n",
    "input_list = [int(x) for x in input_str.split()]\n",
    "\n",
    "print(\"List with unique elements:\", unique_elements(input_list))\n"
   ]
  },
  {
   "cell_type": "code",
   "execution_count": 4,
   "metadata": {},
   "outputs": [
    {
     "name": "stdout",
     "output_type": "stream",
     "text": [
      "YES\n"
     ]
    }
   ],
   "source": [
    "def palindrom(text):\n",
    "    if text==text[::-1]:\n",
    "        print(\"YES\")\n",
    "    else:\n",
    "        print(\"NO\")\n",
    "\n",
    "text = input(\"text: \")\n",
    "palindrom(text)"
   ]
  },
  {
   "cell_type": "code",
   "execution_count": 5,
   "metadata": {},
   "outputs": [
    {
     "name": "stdout",
     "output_type": "stream",
     "text": [
      "*\n",
      "******\n",
      "********\n"
     ]
    }
   ],
   "source": [
    "def histogram(int_list):\n",
    "    for num in int_list:\n",
    "        print('*' * num)\n",
    "\n",
    "input_str = input()\n",
    "int_list = [int(x) for x in input_str.split()]\n",
    "histogram(int_list)\n"
   ]
  },
  {
   "cell_type": "code",
   "execution_count": 7,
   "metadata": {},
   "outputs": [
    {
     "name": "stdout",
     "output_type": "stream",
     "text": [
      "Hello! What is your name?\n",
      "Well, Almas, I am thinking of a number between 1 and 20.\n",
      "Your guess is too high.\n",
      "Your guess is too high.\n",
      "Your guess is too high.\n",
      "Your guess is too high.\n",
      "Your guess is too high.\n",
      "Good job, Almas! You guessed my number in 6 guesses!\n"
     ]
    }
   ],
   "source": [
    "from random import randint\n",
    "\n",
    "def guessanumber():\n",
    "    print(\"Hello! What is your name?\")\n",
    "    name = input(\"name:\")\n",
    "    print(f\"Well, {name}, I am thinking of a number between 1 and 20.\")\n",
    "    number = randint(1,20)\n",
    "    cnt = 0\n",
    "    run = True\n",
    "    while run:\n",
    "        guess = int(input(\"Take a guess: \"))\n",
    "        cnt+=1\n",
    "        if guess == number:\n",
    "            run = False\n",
    "            print(f\"Good job, {name}! You guessed my number in {cnt} guesses!\")\n",
    "            break\n",
    "        if guess>number:\n",
    "            print(\"Your guess is too high.\")\n",
    "        else:\n",
    "            print(\"Your guess is too low\")\n",
    "\n",
    "guessanumber()"
   ]
  }
 ],
 "metadata": {
  "kernelspec": {
   "display_name": "base",
   "language": "python",
   "name": "python3"
  },
  "language_info": {
   "codemirror_mode": {
    "name": "ipython",
    "version": 3
   },
   "file_extension": ".py",
   "mimetype": "text/x-python",
   "name": "python",
   "nbconvert_exporter": "python",
   "pygments_lexer": "ipython3",
   "version": "3.12.7"
  }
 },
 "nbformat": 4,
 "nbformat_minor": 2
}
