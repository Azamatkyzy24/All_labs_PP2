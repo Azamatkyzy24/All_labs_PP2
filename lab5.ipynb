{
 "cells": [
  {
   "cell_type": "code",
   "execution_count": null,
   "metadata": {},
   "outputs": [
    {
     "name": "stdout",
     "output_type": "stream",
     "text": [
      " Match: a\n",
      " Match: ab\n",
      " Match: abb\n",
      " Match: abbb\n",
      " No match: ac\n",
      " No match: abc\n",
      " No match: b\n",
      " No match: ba\n"
     ]
    }
   ],
   "source": [
    "import re\n",
    "\n",
    "pattern = r\"ab*\"\n",
    "\n",
    "test_strings = [\"a\", \"ab\", \"abb\", \"abbb\", \"ac\", \"abc\", \"b\", \"ba\"]\n",
    "\n",
    "for string in test_strings:\n",
    "    if re.fullmatch(pattern, string): # fullmatch() checks if the whole string matches\n",
    "        print(f\" Match: {string}\")\n",
    "    else:\n",
    "        print(f\" No match: {string}\")\n"
   ]
  },
  {
   "cell_type": "code",
   "execution_count": 3,
   "metadata": {},
   "outputs": [
    {
     "name": "stdout",
     "output_type": "stream",
     "text": [
      "Match: abb\n",
      "Match: abbb\n",
      " No match: a\n",
      " No match: ab\n",
      " No match: abbbb\n",
      " No match: ac\n",
      " No match: abc\n",
      " No match: b\n",
      " No match: ba\n"
     ]
    }
   ],
   "source": [
    "import re\n",
    "\n",
    "pattern = r\"ab{2,3}$\"\n",
    "\n",
    "test_strings = [\"abb\", \"abbb\", \"a\", \"ab\", \"abbbb\", \"ac\", \"abc\", \"b\", \"ba\"]\n",
    "\n",
    "for string in test_strings:\n",
    "    if re.fullmatch(pattern, string):\n",
    "        print(f\"Match: {string}\")\n",
    "    else:\n",
    "        print(f\" No match: {string}\")"
   ]
  },
  {
   "cell_type": "code",
   "execution_count": null,
   "metadata": {},
   "outputs": [
    {
     "name": "stdout",
     "output_type": "stream",
     "text": [
      " Match: hello_world\n",
      " Match: python_programming\n",
      " Match: hello_teacher\n",
      " No match: I am Aidana\n",
      " No match: _KBTU\n",
      " Match: lower_case_text\n",
      " No match: text_\n"
     ]
    }
   ],
   "source": [
    "import re\n",
    "\n",
    "pattern = r\"\\b[a-z]+(?:_[a-z]+)+\\b\"\n",
    "''' (?: ... ) → Non-capturing group, meaning we group _ and lowercase letters together.\n",
    "#_[a-z]+ → Matches an underscore _ followed by lowercase letters.\n",
    "#+ → Allows one or more of these groups, meaning multiple _ are supported.'''\n",
    "\n",
    "test_strings = [\n",
    "    \"hello_world\",\n",
    "    \"python_programming\", \n",
    "    \"hello_teacher\",\n",
    "    \"I am Aidana\",  \n",
    "    \"_KBTU\",\n",
    "    \"lower_case_text\",\n",
    "    \"text_\"\n",
    "]\n",
    "\n",
    "for string in test_strings:\n",
    "    if re.fullmatch(pattern, string):\n",
    "        print(f\" Match: {string}\")\n",
    "    else:\n",
    "        print(f\" No match: {string}\")"
   ]
  },
  {
   "cell_type": "code",
   "execution_count": 6,
   "metadata": {},
   "outputs": [
    {
     "name": "stdout",
     "output_type": "stream",
     "text": [
      " Match: Hello\n",
      " Match: Python\n",
      " Match: Aidana\n",
      " No match: hello\n",
      " No match: KBTU\n",
      " No match: USA\n",
      " No match: P\n",
      " No match: UpperCase\n",
      " No match: ABCabc\n",
      " No match: Aidana123\n"
     ]
    }
   ],
   "source": [
    "import re\n",
    "\n",
    "pattern = r\"\\b[A-Z][a-z]+\\b\"\n",
    "\n",
    "test_strings = [\n",
    "    \"Hello\",       \n",
    "    \"Python\",      \n",
    "    \"Aidana\",      \n",
    "    \"hello\",        \n",
    "    \"KBTU\",        \n",
    "    \"USA\",          \n",
    "    \"P\",            \n",
    "    \"UpperCase\",    \n",
    "    \"ABCabc\",       \n",
    "    \"Aidana123\",\n",
    "]\n",
    "\n",
    "for string in test_strings:\n",
    "    if re.fullmatch(pattern, string):\n",
    "        print(f\" Match: {string}\")\n",
    "    else:\n",
    "        print(f\" No match: {string}\")\n"
   ]
  },
  {
   "cell_type": "code",
   "execution_count": null,
   "metadata": {},
   "outputs": [
    {
     "name": "stdout",
     "output_type": "stream",
     "text": [
      " Match: ab\n",
      " Match: acb\n",
      " Match: axyzb\n",
      " Match: a123b\n",
      " Match: a_b\n",
      " No match: ba\n",
      " No match: abcba\n"
     ]
    }
   ],
   "source": [
    "import re\n",
    "\n",
    "pattern = r\"^a.*b$\"\n",
    "''' ^ → Ensures the string starts with 'a'.\n",
    "a → The string must begin with 'a'.\n",
    ".* → Matches any characters (. means any character, * means zero or more times).\n",
    "b$ → Ensures the string ends with 'b'. '''\n",
    "\n",
    "\n",
    "test_strings = [\n",
    "    \"ab\",       \n",
    "    \"acb\",         \n",
    "    \"axyzb\",     \n",
    "    \"a123b\",      \n",
    "    \"a_b\",         \n",
    "    \"ba\",   \n",
    "    \"abcba\"\n",
    "]\n",
    "\n",
    "for string in test_strings:\n",
    "    if re.fullmatch(pattern, string): \n",
    "        print(f\" Match: {string}\")\n",
    "    else:\n",
    "        print(f\" No match: {string}\")\n"
   ]
  },
  {
   "cell_type": "code",
   "execution_count": null,
   "metadata": {},
   "outputs": [
    {
     "name": "stdout",
     "output_type": "stream",
     "text": [
      "Hello::teacher::How:are:you:today?\n"
     ]
    }
   ],
   "source": [
    "import re\n",
    "\n",
    "text = \"Hello, teacher. How are you today?\"\n",
    "\n",
    "pattern = r\"[ ,.]\"\n",
    "\n",
    "result = re.sub(pattern, \":\", text) #replaces all occurrences of a pattern (matched by a regex) with a specified replacement string.\n",
    "\n",
    "print(result)"
   ]
  },
  {
   "cell_type": "code",
   "execution_count": null,
   "metadata": {},
   "outputs": [
    {
     "name": "stdout",
     "output_type": "stream",
     "text": [
      "hello_world → helloWorld\n",
      "python_programming → pythonProgramming\n",
      "convert_snake_case → convertSnakeCase\n",
      "snake_to_camel_case → snakeToCamelCase\n",
      "alreadyCamelCase → alreadyCamelCase\n"
     ]
    }
   ],
   "source": [
    "import re\n",
    "\n",
    "def snake_to_camel(snake_str):\n",
    "    return re.sub(r'_([a-z])', lambda match: match.group(1).upper(), snake_str) \n",
    "# match.group(1).upper() → Converts the matched lowercase letter to uppercase. The _ is removed.\n",
    "\n",
    "test_strings = [\"hello_world\", \"python_programming\", \"convert_snake_case\", \"snake_to_camel_case\", \"alreadyCamelCase\"]\n",
    "\n",
    "for test in test_strings:\n",
    "    print(f\"{test} → {snake_to_camel(test)}\")"
   ]
  },
  {
   "cell_type": "code",
   "execution_count": 13,
   "metadata": {},
   "outputs": [
    {
     "name": "stdout",
     "output_type": "stream",
     "text": [
      "HelloWorld → ['Hello', 'World']\n",
      "PythonProgramming → ['Python', 'Programming']\n",
      "CamelCaseString → ['Camel', 'Case', 'String']\n",
      "SplitAtUpperCase → ['Split', 'At', 'Upper', 'Case']\n",
      "nouppercase → []\n"
     ]
    }
   ],
   "source": [
    "import re\n",
    "\n",
    "def split_at_uppercase(text):\n",
    "    return re.findall(r'[A-Z][a-z]*', text) #Finds all matches\n",
    "\n",
    "test_strings = [\n",
    "    \"HelloWorld\",         \n",
    "    \"PythonProgramming\",  \n",
    "    \"CamelCaseString\",    \n",
    "    \"SplitAtUpperCase\",  \n",
    "    \"nouppercase\",    \n",
    "]\n",
    "\n",
    "for test in test_strings:\n",
    "    print(f\"{test} → {split_at_uppercase(test)}\")\n"
   ]
  },
  {
   "cell_type": "code",
   "execution_count": 14,
   "metadata": {},
   "outputs": [
    {
     "name": "stdout",
     "output_type": "stream",
     "text": [
      "HelloWorld → Hello World\n",
      "PythonProgramming → Python Programming\n",
      "CamelCaseString → Camel Case String\n",
      "InsertSpacesHere → Insert Spaces Here\n",
      "NoUppercase → No Uppercase\n"
     ]
    }
   ],
   "source": [
    "import re\n",
    "\n",
    "def insert_spaces(text):\n",
    "    return re.sub(r\"([a-z])([A-Z])\", r\"\\1 \\2\", text)  # Add space before uppercase letter\n",
    "\n",
    "test_strings = [\n",
    "    \"HelloWorld\",         \n",
    "    \"PythonProgramming\", \n",
    "    \"CamelCaseString\", \n",
    "    \"InsertSpacesHere\",\n",
    "    \"NoUppercase\",\n",
    "]\n",
    "\n",
    "for test in test_strings:\n",
    "    print(f\"{test} → {insert_spaces(test)}\")"
   ]
  },
  {
   "cell_type": "code",
   "execution_count": 15,
   "metadata": {},
   "outputs": [
    {
     "name": "stdout",
     "output_type": "stream",
     "text": [
      "HelloWorld → hello_world\n",
      "PythonProgramming → python_programming\n",
      "CamelCaseString → camel_case_string\n",
      "ConvertToSnakeCase → convert_to_snake_case\n",
      "already_snake_case → already_snake_case\n"
     ]
    }
   ],
   "source": [
    "import re\n",
    "\n",
    "def camel_to_snake(camel_str):\n",
    "    snake_str = re.sub(r'([a-z])([A-Z])', r'\\1_\\2', camel_str).lower()\n",
    "    return snake_str\n",
    "\n",
    "test_strings = [\n",
    "    \"HelloWorld\",         \n",
    "    \"PythonProgramming\",  \n",
    "    \"CamelCaseString\",    \n",
    "    \"ConvertToSnakeCase\", \n",
    "    \"already_snake_case\"  \n",
    "]\n",
    "\n",
    "for test in test_strings:\n",
    "    print(f\"{test} → {camel_to_snake(test)}\")"
   ]
  }
 ],
 "metadata": {
  "kernelspec": {
   "display_name": "base",
   "language": "python",
   "name": "python3"
  },
  "language_info": {
   "codemirror_mode": {
    "name": "ipython",
    "version": 3
   },
   "file_extension": ".py",
   "mimetype": "text/x-python",
   "name": "python",
   "nbconvert_exporter": "python",
   "pygments_lexer": "ipython3",
   "version": "3.12.7"
  }
 },
 "nbformat": 4,
 "nbformat_minor": 2
}
