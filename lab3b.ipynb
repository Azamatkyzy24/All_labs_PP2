{
 "cells": [
  {
   "cell_type": "code",
   "execution_count": 2,
   "metadata": {},
   "outputs": [
    {
     "name": "stdout",
     "output_type": "stream",
     "text": [
      "\n",
      "Movies with IMDb score above 5.5:\n",
      "[{'name': 'Usual Suspects', 'imdb': 7.0, 'category': 'Thriller'}, {'name': 'Hitman', 'imdb': 6.3, 'category': 'Action'}, {'name': 'Dark Knight', 'imdb': 9.0, 'category': 'Adventure'}, {'name': 'The Help', 'imdb': 8.0, 'category': 'Drama'}, {'name': 'The Choice', 'imdb': 6.2, 'category': 'Romance'}, {'name': 'Colonia', 'imdb': 7.4, 'category': 'Romance'}, {'name': 'Love', 'imdb': 6.0, 'category': 'Romance'}, {'name': 'Joking muck', 'imdb': 7.2, 'category': 'Comedy'}, {'name': 'What is the name', 'imdb': 9.2, 'category': 'Suspense'}, {'name': 'Detective', 'imdb': 7.0, 'category': 'Suspense'}, {'name': 'We Two', 'imdb': 7.2, 'category': 'Romance'}]\n",
      "\n",
      "Movies in the 'Romance' category:\n",
      "[{'name': 'The Choice', 'imdb': 6.2, 'category': 'Romance'}, {'name': 'Colonia', 'imdb': 7.4, 'category': 'Romance'}, {'name': 'Love', 'imdb': 6.0, 'category': 'Romance'}, {'name': 'Bride Wars', 'imdb': 5.4, 'category': 'Romance'}, {'name': 'We Two', 'imdb': 7.2, 'category': 'Romance'}]\n",
      "\n",
      "Average IMDb score for all movies:\n",
      "6.486666666666666\n",
      "\n",
      "Average IMDb score for the 'Romance' category:\n",
      "6.44\n"
     ]
    }
   ],
   "source": [
    "# Dictionary of movies\n",
    "movies = [\n",
    "    {\"name\": \"Usual Suspects\", \"imdb\": 7.0, \"category\": \"Thriller\"},\n",
    "    {\"name\": \"Hitman\", \"imdb\": 6.3, \"category\": \"Action\"},\n",
    "    {\"name\": \"Dark Knight\", \"imdb\": 9.0, \"category\": \"Adventure\"},\n",
    "    {\"name\": \"The Help\", \"imdb\": 8.0, \"category\": \"Drama\"},\n",
    "    {\"name\": \"The Choice\", \"imdb\": 6.2, \"category\": \"Romance\"},\n",
    "    {\"name\": \"Colonia\", \"imdb\": 7.4, \"category\": \"Romance\"},\n",
    "    {\"name\": \"Love\", \"imdb\": 6.0, \"category\": \"Romance\"},\n",
    "    {\"name\": \"Bride Wars\", \"imdb\": 5.4, \"category\": \"Romance\"},\n",
    "    {\"name\": \"AlphaJet\", \"imdb\": 3.2, \"category\": \"War\"},\n",
    "    {\"name\": \"Ringing Crime\", \"imdb\": 4.0, \"category\": \"Crime\"},\n",
    "    {\"name\": \"Joking muck\", \"imdb\": 7.2, \"category\": \"Comedy\"},\n",
    "    {\"name\": \"What is the name\", \"imdb\": 9.2, \"category\": \"Suspense\"},\n",
    "    {\"name\": \"Detective\", \"imdb\": 7.0, \"category\": \"Suspense\"},\n",
    "    {\"name\": \"Exam\", \"imdb\": 4.2, \"category\": \"Thriller\"},\n",
    "    {\"name\": \"We Two\", \"imdb\": 7.2, \"category\": \"Romance\"}\n",
    "]\n",
    "#1: Check if a movie's IMDb score is above 5.5\n",
    "def is_high_score(movie):\n",
    "    return movie['imdb'] > 5.5\n",
    "\n",
    "#2: Return movies with IMDb score above 5.5\n",
    "def high_score_movies(movies):\n",
    "    return [movie for movie in movies if movie['imdb'] > 5.5]\n",
    "\n",
    "#3: Get movies by category\n",
    "def get_movies_by_category(movies, category):\n",
    "    return [movie for movie in movies if movie['category'].lower() == category.lower()]\n",
    "\n",
    "#4: Compute the average IMDb score of a list of movies\n",
    "def average_imdb_score(movies):\n",
    "    if not movies:\n",
    "        return 0\n",
    "    return sum(movie['imdb'] for movie in movies) / len(movies)\n",
    "\n",
    "#5: Compute the average IMDb score for a category\n",
    "def average_score_by_category(movies, category):\n",
    "    category_movies = get_movies_by_category(movies, category)\n",
    "    return average_imdb_score(category_movies)\n",
    "\n",
    "# Testing the functions\n",
    "print(\"\\nMovies with IMDb score above 5.5:\")\n",
    "print(high_score_movies(movies))\n",
    "\n",
    "print(\"\\nMovies in the 'Romance' category:\")\n",
    "print(get_movies_by_category(movies, \"Romance\"))\n",
    "\n",
    "print(\"\\nAverage IMDb score for all movies:\")\n",
    "print(average_imdb_score(movies))\n",
    "\n",
    "print(\"\\nAverage IMDb score for the 'Romance' category:\")\n",
    "print(average_score_by_category(movies, \"Romance\"))\n"
   ]
  }
 ],
 "metadata": {
  "kernelspec": {
   "display_name": "base",
   "language": "python",
   "name": "python3"
  },
  "language_info": {
   "codemirror_mode": {
    "name": "ipython",
    "version": 3
   },
   "file_extension": ".py",
   "mimetype": "text/x-python",
   "name": "python",
   "nbconvert_exporter": "python",
   "pygments_lexer": "ipython3",
   "version": "3.12.7"
  }
 },
 "nbformat": 4,
 "nbformat_minor": 2
}
